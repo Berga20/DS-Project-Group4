{
 "cells": [
  {
   "cell_type": "code",
   "execution_count": 19,
   "id": "279c4225",
   "metadata": {},
   "outputs": [],
   "source": [
    "import pandas as pd\n",
    "import numpy as np\n",
    "from datetime import datetime\n",
    "\n",
    "from sklearn.linear_model import HuberRegressor, ElasticNet\n"
   ]
  },
  {
   "cell_type": "code",
   "execution_count": 20,
   "id": "0e202ad7",
   "metadata": {},
   "outputs": [],
   "source": [
    "# Read datafile\n",
    "file_path1 = \"Features_X.csv\"\n",
    "Predictors = pd.read_csv(file_path1)\n",
    "fie_path2 = \"Dependet_y.csv\"\n",
    "Dependent = pd.read_csv(fie_path2)"
   ]
  },
  {
   "cell_type": "code",
   "execution_count": 21,
   "id": "3d503b2a",
   "metadata": {},
   "outputs": [],
   "source": [
    "Predictors.set_index('Date', inplace=True)\n",
    "Predictors.index = pd.to_datetime(Predictors.index)\n",
    "\n",
    "Dependent.set_index('Date', inplace=True)\n",
    "Dependent.index = pd.to_datetime(Dependent.index)"
   ]
  },
  {
   "cell_type": "code",
   "execution_count": 22,
   "id": "46668c11",
   "metadata": {},
   "outputs": [],
   "source": [
    "yrs = Predictors.index.year.unique()\n",
    "yrs = Dependent.index.year.unique()\n",
    "Dependent.fillna(0, inplace=True)\n",
    "Predictors.fillna(0, inplace=True)"
   ]
  },
  {
   "cell_type": "code",
   "execution_count": null,
   "id": "12434643",
   "metadata": {},
   "outputs": [],
   "source": []
  },
  {
   "cell_type": "markdown",
   "id": "c2fcf3ec",
   "metadata": {},
   "source": [
    "# Validation function from previous code of Marco"
   ]
  },
  {
   "cell_type": "code",
   "execution_count": 27,
   "id": "1102325b",
   "metadata": {},
   "outputs": [],
   "source": [
    "from sklearn.model_selection import ParameterGrid\n",
    "\n",
    "def R_oos(actual, predicted):\n",
    "    actual, predicted = np.array(actual), np.array(predicted).flatten()\n",
    "    predicted = np.where(predicted<0,0,predicted)\n",
    "    return 1 - (np.dot((actual-predicted),(actual-predicted)))/(np.dot(actual,actual))\n",
    "\n",
    "def val_fun(model, params: dict, X_trn, y_trn, X_vld, y_vld):\n",
    "    best_ros = None\n",
    "    lst_params = list(ParameterGrid(params))\n",
    "    for param in lst_params:\n",
    "        if best_ros == None:\n",
    "            mod = model().set_params(**param).fit(X_trn, y_trn)\n",
    "            y_pred = mod.predict(X_vld)\n",
    "            best_ros = R_oos(y_vld, y_pred)\n",
    "            best_param = param\n",
    "        else:\n",
    "            mod = model().set_params(**param).fit(X_trn, y_trn)\n",
    "            y_pred = mod.predict(X_vld)\n",
    "            ros = R_oos(y_vld, y_pred)\n",
    "            if ros > best_ros:\n",
    "                best_ros = ros\n",
    "                best_param = param\n",
    "    return best_param\n"
   ]
  },
  {
   "cell_type": "markdown",
   "id": "561a2471",
   "metadata": {},
   "source": [
    "# ELASTIC NET:"
   ]
  },
  {
   "cell_type": "code",
   "execution_count": null,
   "id": "079c10a5",
   "metadata": {},
   "outputs": [],
   "source": []
  },
  {
   "cell_type": "code",
   "execution_count": null,
   "id": "7e46a1e3",
   "metadata": {},
   "outputs": [],
   "source": []
  },
  {
   "cell_type": "code",
   "execution_count": null,
   "id": "8f095116",
   "metadata": {},
   "outputs": [],
   "source": []
  },
  {
   "cell_type": "code",
   "execution_count": null,
   "id": "529f5309",
   "metadata": {},
   "outputs": [],
   "source": []
  },
  {
   "cell_type": "code",
   "execution_count": null,
   "id": "5dff636b",
   "metadata": {},
   "outputs": [],
   "source": []
  },
  {
   "cell_type": "code",
   "execution_count": null,
   "id": "3c5def5f",
   "metadata": {},
   "outputs": [],
   "source": [
    "from sklearn.metrics import r2_score\n",
    "def ENet(Dependent, Predictors, initial_train_years=18, validation_years=12, test_years=1):\n",
    "    yrs = Dependent.index.year.unique()\n",
    "    r_squared_scores = []\n",
    "    tuning_par = {\n",
    "        \"alpha\": [1e-1, 1e-4],\n",
    "        \"l1_ratio\": [0.5], \"tol\":[1e-2]\n",
    "    } \n",
    "    \n",
    "    # Now the model runs for every time of the 30 splits and for every possible combination of the tuning parameters.\n",
    "    for i in range(len(yrs) - initial_train_years - validation_years):\n",
    "        start_year = yrs[i]\n",
    "        end_train_year = start_year + initial_train_years  # 18 years of training and increasing with 1 year every iteration\n",
    "        end_validation_year = end_train_year + validation_years  # 12 years of validation\n",
    "        end_test_year = end_validation_year + test_years  # 1 year of test\n",
    "\n",
    "        # Creating training, validation and test sets.\n",
    "        X_train = Predictors[(Predictors.index.year < end_train_year)]\n",
    "        X_test = Predictors[(Predictors.index.year >= end_validation_year) & (Predictors.index.year < end_test_year)]\n",
    "        X_val = Predictors[(Predictors.index.year >= end_train_year) & (Predictors.index.year < end_validation_year)]\n",
    "        y_train = Dependent[(Dependent.index.year < end_train_year)].values.ravel()\n",
    "        y_test = Dependent[(Dependent.index.year >= end_validation_year) & (Dependent.index.year < end_test_year)].values.ravel()\n",
    "        y_val = Dependent[(Dependent.index.year >= end_train_year) & (Dependent.index.year < end_validation_year)].values.ravel()\n",
    "        \n",
    "        # This part runs the tuning to find the best combination of the tuning parameters for every split\n",
    "        best_par = val_fun(ElasticNet, params=tuning_par, X_trn=X_train, y_trn=y_train, X_vld=X_val, y_vld=y_val)\n",
    "        \n",
    "        # Now we test the model\n",
    "        RF_SP500 = ElasticNet(alpha=best_par['alpha'], l1_ratio=best_par['l1_ratio']).fit(X_train, y_train)\n",
    "\n",
    "        # Calculate R_squared\n",
    "        y_test_pred = RF_SP500.predict(X_test)\n",
    "        test_r2 = r2_score(y_test, y_test_pred)\n",
    "        r_squared_scores.append(test_r2)\n",
    "        \n",
    "    return r_squared_scores\n",
    "    \n",
    "ENet = ENet(Dependent=Dependent,Predictors=Predictors)   \n",
    "ENet"
   ]
  },
  {
   "cell_type": "markdown",
   "id": "888f8f16",
   "metadata": {},
   "source": [
    "### When l1_ratio is 1, Elastic Net behaves like LASSO regression, and when l1_ratio is 0, it behaves like RIDGE regression.\n",
    "\n"
   ]
  },
  {
   "cell_type": "markdown",
   "id": "4f035cb6",
   "metadata": {},
   "source": [
    "# LASSO"
   ]
  },
  {
   "cell_type": "code",
   "execution_count": null,
   "id": "899d8eff",
   "metadata": {},
   "outputs": [],
   "source": [
    "# Set l1_ratio = 1 -> Lasso\n",
    "def Lasso(Dependent, Predictors, initial_train_years=18, validation_years=12, test_years=1):\n",
    "    yrs = Dependent.index.year.unique()\n",
    "    r_squared_scores = []\n",
    "    tuning_par = {\n",
    "        \"alpha\": [1e-1, 1e-4],\n",
    "        \"l1_ratio\": [1], \"tol\":[1e-2]\n",
    "    } \n",
    "    \n",
    "    # Now the model runs for every time of the 30 splits and for every possible combination of the tuning parameters.\n",
    "    for i in range(len(yrs) - initial_train_years - validation_years):\n",
    "        start_year = yrs[i]\n",
    "        end_train_year = start_year + initial_train_years  # 18 years of training and increasing with 1 year every iteration\n",
    "        end_validation_year = end_train_year + validation_years  # 12 years of validation\n",
    "        end_test_year = end_validation_year + test_years  # 1 year of test\n",
    "\n",
    "        # Creating training, validation and test sets.\n",
    "        X_train = Predictors[(Predictors.index.year < end_train_year)]\n",
    "        X_test = Predictors[(Predictors.index.year >= end_validation_year) & (Predictors.index.year < end_test_year)]\n",
    "        X_val = Predictors[(Predictors.index.year >= end_train_year) & (Predictors.index.year < end_validation_year)]\n",
    "        y_train = Dependent[(Dependent.index.year < end_train_year)].values.ravel()\n",
    "        y_test = Dependent[(Dependent.index.year >= end_validation_year) & (Dependent.index.year < end_test_year)].values.ravel()\n",
    "        y_val = Dependent[(Dependent.index.year >= end_train_year) & (Dependent.index.year < end_validation_year)].values.ravel()\n",
    "        \n",
    "        # This part runs the tuning to find the best combination of the tuning parameters for every split\n",
    "        best_par = val_fun(ElasticNet, params=tuning_par, X_trn=X_train, y_trn=y_train, X_vld=X_val, y_vld=y_val)\n",
    "        \n",
    "        # Now we test the model\n",
    "        RF_SP500 = ElasticNet(alpha=best_par['alpha'], l1_ratio=best_par['l1_ratio']).fit(X_train, y_train)\n",
    "\n",
    "        # Calculate R_squared\n",
    "        y_test_pred = RF_SP500.predict(X_test)\n",
    "        test_r2 = r2_score(y_test, y_test_pred)\n",
    "        r_squared_scores.append(test_r2)\n",
    "        \n",
    "    return r_squared_scores\n",
    "    \n",
    "ENet = ENet(Dependent=Dependent,Predictors=Predictors)   \n",
    "ENet"
   ]
  },
  {
   "cell_type": "markdown",
   "id": "8247817b",
   "metadata": {},
   "source": [
    "# RIDGE"
   ]
  },
  {
   "cell_type": "code",
   "execution_count": null,
   "id": "d7c8d415",
   "metadata": {},
   "outputs": [],
   "source": [
    "# Set l1_ratio = 0 -> RIDGE\n",
    "\n",
    "def Lasso(Dependent, Predictors, initial_train_years=18, validation_years=12, test_years=1):\n",
    "    yrs = Dependent.index.year.unique()\n",
    "    r_squared_scores = []\n",
    "    tuning_par = {\n",
    "        \"alpha\": [1e-1, 1e-4],\n",
    "        \"l1_ratio\": [0], \"tol\":[1e-2]\n",
    "    } \n",
    "    \n",
    "    # Now the model runs for every time of the 30 splits and for every possible combination of the tuning parameters.\n",
    "    for i in range(len(yrs) - initial_train_years - validation_years):\n",
    "        start_year = yrs[i]\n",
    "        end_train_year = start_year + initial_train_years  # 18 years of training and increasing with 1 year every iteration\n",
    "        end_validation_year = end_train_year + validation_years  # 12 years of validation\n",
    "        end_test_year = end_validation_year + test_years  # 1 year of test\n",
    "\n",
    "        # Creating training, validation and test sets.\n",
    "        X_train = Predictors[(Predictors.index.year < end_train_year)]\n",
    "        X_test = Predictors[(Predictors.index.year >= end_validation_year) & (Predictors.index.year < end_test_year)]\n",
    "        X_val = Predictors[(Predictors.index.year >= end_train_year) & (Predictors.index.year < end_validation_year)]\n",
    "        y_train = Dependent[(Dependent.index.year < end_train_year)].values.ravel()\n",
    "        y_test = Dependent[(Dependent.index.year >= end_validation_year) & (Dependent.index.year < end_test_year)].values.ravel()\n",
    "        y_val = Dependent[(Dependent.index.year >= end_train_year) & (Dependent.index.year < end_validation_year)].values.ravel()\n",
    "        \n",
    "        # This part runs the tuning to find the best combination of the tuning parameters for every split\n",
    "        best_par = val_fun(ElasticNet, params=tuning_par, X_trn=X_train, y_trn=y_train, X_vld=X_val, y_vld=y_val)\n",
    "        \n",
    "        # Now we test the model\n",
    "        RF_SP500 = ElasticNet(alpha=best_par['alpha'], l1_ratio=best_par['l1_ratio']).fit(X_train, y_train)\n",
    "\n",
    "        # Calculate R_squared\n",
    "        y_test_pred = RF_SP500.predict(X_test)\n",
    "        test_r2 = r2_score(y_test, y_test_pred)\n",
    "        r_squared_scores.append(test_r2)\n",
    "        \n",
    "    return r_squared_scores\n",
    "    \n",
    "ENet = ENet(Dependent=Dependent,Predictors=Predictors)   \n",
    "ENet"
   ]
  },
  {
   "cell_type": "markdown",
   "id": "a1513954",
   "metadata": {},
   "source": [
    "# Implementation of Huber-Loss"
   ]
  },
  {
   "cell_type": "markdown",
   "id": "4ea64490",
   "metadata": {},
   "source": [
    "# Huber-Loss-function"
   ]
  },
  {
   "cell_type": "code",
   "execution_count": 23,
   "id": "b3d1a46a",
   "metadata": {},
   "outputs": [],
   "source": [
    "from sklearn.linear_model import ElasticNet\n",
    "from sklearn.metrics import r2_score\n",
    "from sklearn.model_selection import ParameterGrid\n",
    "import numpy as np\n",
    "\n"
   ]
  },
  {
   "cell_type": "code",
   "execution_count": 24,
   "id": "e4294294",
   "metadata": {},
   "outputs": [],
   "source": [
    "def huber_loss(y_val, y_pred, delta):\n",
    "    error = y_val - y_pred\n",
    "    is_small_error = np.abs(error) <= delta\n",
    "    squared_loss = 0.5 * (error ** 2)\n",
    "    linear_loss = delta * (np.abs(error) - 0.5 * delta)\n",
    "    return np.where(is_small_error, squared_loss, linear_loss)"
   ]
  },
  {
   "cell_type": "code",
   "execution_count": null,
   "id": "ad83745a",
   "metadata": {},
   "outputs": [],
   "source": [
    "from sklearn.model_selection import ParameterGrid\n",
    "\n",
    "\n",
    "def R_oos(actual, predicted):\n",
    "    actual, predicted = np.array(actual), np.array(predicted).flatten()\n",
    "    predicted = np.where(predicted<0,0,predicted)\n",
    "    return 1 - (np.dot((actual-predicted),(actual-predicted)))/(np.dot(actual,actual))\n",
    "\n",
    "def val_fun_with_huber(model, params: dict, X_trn, y_trn, X_vld, y_vld):\n",
    "    best_ros = None\n",
    "    lst_params = list(ParameterGrid(params))\n",
    "    for param in lst_params:\n",
    "        if best_ros == None:\n",
    "            mod = model().set_params(**param).fit(X_trn, y_trn)\n",
    "            y_pred = mod.predict(X_vld)\n",
    "            smallest_loss = huber_loss(y_vld, y_pred, delta=99.9)\n",
    "            best_param = param\n",
    "        else:\n",
    "            mod = model().set_params(**param).fit(X_trn, y_trn)\n",
    "            y_pred = mod.predict(X_vld)\n",
    "            loss = huber_loss(y_vld, y_pred, delta=99.9)\n",
    "            if loss < smallest_loss:\n",
    "                smallest_loss = loss\n",
    "                best_param = param\n",
    "    return best_para"
   ]
  },
  {
   "cell_type": "markdown",
   "id": "53ac7aee",
   "metadata": {},
   "source": [
    "# Elastic Net with Huber"
   ]
  },
  {
   "cell_type": "code",
   "execution_count": 26,
   "id": "498e3309",
   "metadata": {
    "scrolled": true
   },
   "outputs": [
    {
     "ename": "NameError",
     "evalue": "name 'y_val' is not defined",
     "output_type": "error",
     "traceback": [
      "\u001b[0;31m---------------------------------------------------------------------------\u001b[0m",
      "\u001b[0;31mNameError\u001b[0m                                 Traceback (most recent call last)",
      "Cell \u001b[0;32mIn[26], line 32\u001b[0m\n\u001b[1;32m     28\u001b[0m         r_squared_scores\u001b[38;5;241m.\u001b[39mappend(test_r2)\n\u001b[1;32m     30\u001b[0m     \u001b[38;5;28;01mreturn\u001b[39;00m r_squared_scores\n\u001b[0;32m---> 32\u001b[0m ENet_scores \u001b[38;5;241m=\u001b[39m ENet_with_huber(Dependent\u001b[38;5;241m=\u001b[39mDependent, Predictors\u001b[38;5;241m=\u001b[39mPredictors)\n",
      "Cell \u001b[0;32mIn[26], line 22\u001b[0m, in \u001b[0;36mENet_with_huber\u001b[0;34m(Dependent, Predictors, initial_train_years, validation_years, test_years)\u001b[0m\n\u001b[1;32m     19\u001b[0m y_test \u001b[38;5;241m=\u001b[39m Dependent[(Dependent\u001b[38;5;241m.\u001b[39mindex\u001b[38;5;241m.\u001b[39myear \u001b[38;5;241m>\u001b[39m\u001b[38;5;241m=\u001b[39m end_validation_year) \u001b[38;5;241m&\u001b[39m (Dependent\u001b[38;5;241m.\u001b[39mindex\u001b[38;5;241m.\u001b[39myear \u001b[38;5;241m<\u001b[39m end_test_year)]\u001b[38;5;241m.\u001b[39mvalues\u001b[38;5;241m.\u001b[39mravel()\n\u001b[1;32m     20\u001b[0m y_val \u001b[38;5;241m=\u001b[39m Dependent[(Dependent\u001b[38;5;241m.\u001b[39mindex\u001b[38;5;241m.\u001b[39myear \u001b[38;5;241m>\u001b[39m\u001b[38;5;241m=\u001b[39m end_train_year) \u001b[38;5;241m&\u001b[39m (Dependent\u001b[38;5;241m.\u001b[39mindex\u001b[38;5;241m.\u001b[39myear \u001b[38;5;241m<\u001b[39m end_validation_year)]\u001b[38;5;241m.\u001b[39mvalues\u001b[38;5;241m.\u001b[39mravel()\n\u001b[0;32m---> 22\u001b[0m best_par \u001b[38;5;241m=\u001b[39m val_fun_with_huber(ElasticNet, params\u001b[38;5;241m=\u001b[39mtuning_par, X_trn\u001b[38;5;241m=\u001b[39mX_train, y_trn\u001b[38;5;241m=\u001b[39my_train, X_vld\u001b[38;5;241m=\u001b[39mX_val, y_vld\u001b[38;5;241m=\u001b[39my_val)\n\u001b[1;32m     24\u001b[0m RF_SP500 \u001b[38;5;241m=\u001b[39m ElasticNet(alpha\u001b[38;5;241m=\u001b[39mbest_par[\u001b[38;5;124m'\u001b[39m\u001b[38;5;124malpha\u001b[39m\u001b[38;5;124m'\u001b[39m], l1_ratio\u001b[38;5;241m=\u001b[39mbest_par[\u001b[38;5;124m'\u001b[39m\u001b[38;5;124ml1_ratio\u001b[39m\u001b[38;5;124m'\u001b[39m])\u001b[38;5;241m.\u001b[39mfit(X_train, y_train)\n\u001b[1;32m     26\u001b[0m y_test_pred \u001b[38;5;241m=\u001b[39m RF_SP500\u001b[38;5;241m.\u001b[39mpredict(X_test)\n",
      "Cell \u001b[0;32mIn[25], line 16\u001b[0m, in \u001b[0;36mval_fun_with_huber\u001b[0;34m(model, params, X_trn, y_trn, X_vld, y_vld)\u001b[0m\n\u001b[1;32m     14\u001b[0m     mod \u001b[38;5;241m=\u001b[39m model()\u001b[38;5;241m.\u001b[39mset_params(\u001b[38;5;241m*\u001b[39m\u001b[38;5;241m*\u001b[39mparam)\u001b[38;5;241m.\u001b[39mfit(X_trn, y_trn)\n\u001b[1;32m     15\u001b[0m     y_pred \u001b[38;5;241m=\u001b[39m mod\u001b[38;5;241m.\u001b[39mpredict(X_vld)\n\u001b[0;32m---> 16\u001b[0m     smallest_loss \u001b[38;5;241m=\u001b[39m huber_loss(y_val, y_pred, delta\u001b[38;5;241m=\u001b[39m\u001b[38;5;241m99.9\u001b[39m)\n\u001b[1;32m     17\u001b[0m     best_param \u001b[38;5;241m=\u001b[39m param\n\u001b[1;32m     18\u001b[0m \u001b[38;5;28;01melse\u001b[39;00m:\n",
      "\u001b[0;31mNameError\u001b[0m: name 'y_val' is not defined"
     ]
    }
   ],
   "source": [
    "def ENet_with_huber(Dependent, Predictors, initial_train_years=18, validation_years=12, test_years=1):\n",
    "    yrs = Dependent.index.year.unique()\n",
    "    r_squared_scores = []\n",
    "    tuning_par = {\n",
    "        \"alpha\": [1e-1, 1e-4],\n",
    "        \"l1_ratio\": [0.5], \"tol\":[1e-2]\n",
    "    } \n",
    "    \n",
    "    for i in range(len(yrs) - initial_train_years - validation_years):\n",
    "        start_year = yrs[i]\n",
    "        end_train_year = start_year + initial_train_years\n",
    "        end_validation_year = end_train_year + validation_years\n",
    "        end_test_year = end_validation_year + test_years\n",
    "\n",
    "        X_train = Predictors[(Predictors.index.year < end_train_year)]\n",
    "        X_test = Predictors[(Predictors.index.year >= end_validation_year) & (Predictors.index.year < end_test_year)]\n",
    "        X_val = Predictors[(Predictors.index.year >= end_train_year) & (Predictors.index.year < end_validation_year)]\n",
    "        y_train = Dependent[(Dependent.index.year < end_train_year)].values.ravel()\n",
    "        y_test = Dependent[(Dependent.index.year >= end_validation_year) & (Dependent.index.year < end_test_year)].values.ravel()\n",
    "        y_val = Dependent[(Dependent.index.year >= end_train_year) & (Dependent.index.year < end_validation_year)].values.ravel()\n",
    "        \n",
    "        best_par = val_fun_with_huber(ElasticNet, params=tuning_par, X_trn=X_train, y_trn=y_train, X_vld=X_val, y_vld=y_val)\n",
    "        \n",
    "        RF_SP500 = ElasticNet(alpha=best_par['alpha'], l1_ratio=best_par['l1_ratio']).fit(X_train, y_train)\n",
    "\n",
    "        y_test_pred = RF_SP500.predict(X_test)\n",
    "        test_r2 = r2_score(y_test, y_test_pred)\n",
    "        r_squared_scores.append(test_r2)\n",
    "        \n",
    "    return r_squared_scores\n",
    "\n",
    "ENet_scores = ENet_with_huber(Dependent=Dependent, Predictors=Predictors)\n"
   ]
  },
  {
   "cell_type": "markdown",
   "id": "3cdc5470",
   "metadata": {},
   "source": [
    "# Lasso with Huber"
   ]
  },
  {
   "cell_type": "code",
   "execution_count": null,
   "id": "1d05d789",
   "metadata": {},
   "outputs": [],
   "source": [
    "#Set l1_ratio = 1 -> Lasso\n",
    "def Lasso_with_huber(Dependent, Predictors, initial_train_years=18, validation_years=12, test_years=1):\n",
    "    yrs = Dependent.index.year.unique()\n",
    "    r_squared_scores = []\n",
    "    tuning_par = {\n",
    "        \"alpha\": [1e-1, 1e-4],\n",
    "        \"l1_ratio\": [1], \"tol\":[1e-2]\n",
    "    } \n",
    "    \n",
    "    for i in range(len(yrs) - initial_train_years - validation_years):\n",
    "        start_year = yrs[i]\n",
    "        end_train_year = start_year + initial_train_years\n",
    "        end_validation_year = end_train_year + validation_years\n",
    "        end_test_year = end_validation_year + test_years\n",
    "\n",
    "        X_train = Predictors[(Predictors.index.year < end_train_year)]\n",
    "        X_test = Predictors[(Predictors.index.year >= end_validation_year) & (Predictors.index.year < end_test_year)]\n",
    "        X_val = Predictors[(Predictors.index.year >= end_train_year) & (Predictors.index.year < end_validation_year)]\n",
    "        y_train = Dependent[(Dependent.index.year < end_train_year)].values.ravel()\n",
    "        y_test = Dependent[(Dependent.index.year >= end_validation_year) & (Dependent.index.year < end_test_year)].values.ravel()\n",
    "        y_val = Dependent[(Dependent.index.year >= end_train_year) & (Dependent.index.year < end_validation_year)].values.ravel()\n",
    "        \n",
    "        best_par = val_fun_with_huber(ElasticNet, params=tuning_par, X_trn=X_train, y_trn=y_train, X_vld=X_val, y_vld=y_val)\n",
    "        \n",
    "        RF_SP500 = ElasticNet(alpha=best_par['alpha'], l1_ratio=best_par['l1_ratio']).fit(X_train, y_train)\n",
    "\n",
    "        y_test_pred = RF_SP500.predict(X_test)\n",
    "        test_r2 = r2_score(y_test, y_test_pred)\n",
    "        r_squared_scores.append(test_r2)\n",
    "        \n",
    "    return r_squared_scores\n",
    "\n",
    "ENet_scores = ENet_with_huber(Dependent=Dependent, Predictors=Predictors)\n"
   ]
  },
  {
   "cell_type": "markdown",
   "id": "bff5e551",
   "metadata": {},
   "source": [
    "# Ridge with Huber"
   ]
  },
  {
   "cell_type": "code",
   "execution_count": null,
   "id": "829b73af",
   "metadata": {},
   "outputs": [],
   "source": [
    "#Set l1_ratio = 0 -> Ridge\n",
    "def Lasso_with_huber(Dependent, Predictors, initial_train_years=18, validation_years=12, test_years=1):\n",
    "    yrs = Dependent.index.year.unique()\n",
    "    r_squared_scores = []\n",
    "    tuning_par = {\n",
    "        \"alpha\": [1e-1, 1e-4],\n",
    "        \"l1_ratio\": [0], \"tol\":[1e-2]\n",
    "    } \n",
    "    \n",
    "    for i in range(len(yrs) - initial_train_years - validation_years):\n",
    "        start_year = yrs[i]\n",
    "        end_train_year = start_year + initial_train_years\n",
    "        end_validation_year = end_train_year + validation_years\n",
    "        end_test_year = end_validation_year + test_years\n",
    "\n",
    "        X_train = Predictors[(Predictors.index.year < end_train_year)]\n",
    "        X_test = Predictors[(Predictors.index.year >= end_validation_year) & (Predictors.index.year < end_test_year)]\n",
    "        X_val = Predictors[(Predictors.index.year >= end_train_year) & (Predictors.index.year < end_validation_year)]\n",
    "        y_train = Dependent[(Dependent.index.year < end_train_year)].values.ravel()\n",
    "        y_test = Dependent[(Dependent.index.year >= end_validation_year) & (Dependent.index.year < end_test_year)].values.ravel()\n",
    "        y_val = Dependent[(Dependent.index.year >= end_train_year) & (Dependent.index.year < end_validation_year)].values.ravel()\n",
    "        \n",
    "        best_par = val_fun_with_huber(ElasticNet, params=tuning_par, X_trn=X_train, y_trn=y_train, X_vld=X_val, y_vld=y_val)\n",
    "        \n",
    "        RF_SP500 = ElasticNet(alpha=best_par['alpha'], l1_ratio=best_par['l1_ratio']).fit(X_train, y_train)\n",
    "\n",
    "        y_test_pred = RF_SP500.predict(X_test)\n",
    "        test_r2 = r2_score(y_test, y_test_pred)\n",
    "        r_squared_scores.append(test_r2)\n",
    "        \n",
    "    return r_squared_scores\n",
    "\n",
    "ENet_scores = ENet_with_huber(Dependent=Dependent, Predictors=Predictors)\n"
   ]
  }
 ],
 "metadata": {
  "kernelspec": {
   "display_name": "Python 3 (ipykernel)",
   "language": "python",
   "name": "python3"
  },
  "language_info": {
   "codemirror_mode": {
    "name": "ipython",
    "version": 3
   },
   "file_extension": ".py",
   "mimetype": "text/x-python",
   "name": "python",
   "nbconvert_exporter": "python",
   "pygments_lexer": "ipython3",
   "version": "3.11.5"
  }
 },
 "nbformat": 4,
 "nbformat_minor": 5
}
