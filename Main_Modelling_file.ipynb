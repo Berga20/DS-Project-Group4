{
 "cells": [
  {
   "cell_type": "markdown",
   "metadata": {},
   "source": [
    "Start of modelling"
   ]
  },
  {
   "cell_type": "code",
   "execution_count": 4,
   "metadata": {},
   "outputs": [
    {
     "name": "stderr",
     "output_type": "stream",
     "text": [
      "C:\\Users\\hidde\\AppData\\Local\\Temp\\ipykernel_12364\\2310800911.py:1: DeprecationWarning: \n",
      "Pyarrow will become a required dependency of pandas in the next major release of pandas (pandas 3.0),\n",
      "(to allow more performant data types, such as the Arrow string type, and better interoperability with other libraries)\n",
      "but was not found to be installed on your system.\n",
      "If this would cause problems for you,\n",
      "please provide us feedback at https://github.com/pandas-dev/pandas/issues/54466\n",
      "        \n",
      "  import pandas as pd\n"
     ]
    }
   ],
   "source": [
    "import pandas as pd\n",
    "import numpy as np\n",
    "from datetime import datetime\n",
    "import matplotlib.pyplot as plt\n",
    "from sklearn.decomposition import PCA\n",
    "from sklearn.linear_model import LinearRegression\n",
    "from sklearn.metrics import mean_squared_error"
   ]
  },
  {
   "cell_type": "code",
   "execution_count": 5,
   "metadata": {},
   "outputs": [],
   "source": [
    "# Read datafile\n",
    "data = pd.read_csv(\"Complete_dataset.csv\")"
   ]
  },
  {
   "cell_type": "code",
   "execution_count": 6,
   "metadata": {},
   "outputs": [],
   "source": [
    "# Transfer to date variable and set it as index\n",
    "data['Date'] = pd.to_datetime(data['Date'])\n",
    "data.set_index('Date', inplace=True)\n",
    "# Replace na with 0\n",
    "data.fillna(0, inplace=True)"
   ]
  },
  {
   "cell_type": "code",
   "execution_count": 51,
   "metadata": {},
   "outputs": [],
   "source": [
    "# Create list with names of all variables\n",
    "all_predictors = data.columns.drop(['RET', 'Month', 'permno'])\n",
    "# Save the return\n",
    "y_variable = ['RET']\n"
   ]
  },
  {
   "cell_type": "markdown",
   "metadata": {},
   "source": [
    "OLS-3 includes size = 'mvel1', Book-to-Market = 'bm', momentum = 'mom12m' Does it also include 'mom1m','mom6m','mom12m','mom36m'?"
   ]
  },
  {
   "cell_type": "code",
   "execution_count": 40,
   "metadata": {},
   "outputs": [],
   "source": [
    "# Create Dataset for OLS-3 (Need to determine the momentum variable!)\n",
    "three_predictors_and_return = ['mvel1', 'bm','mom12m', 'RET']\n",
    "three_predictors = ['mvel1', 'bm','mom12m']\n",
    "data3 = data[three_predictors_and_return]"
   ]
  },
  {
   "cell_type": "code",
   "execution_count": 8,
   "metadata": {},
   "outputs": [
    {
     "data": {
      "text/html": [
       "<div>\n",
       "<style scoped>\n",
       "    .dataframe tbody tr th:only-of-type {\n",
       "        vertical-align: middle;\n",
       "    }\n",
       "\n",
       "    .dataframe tbody tr th {\n",
       "        vertical-align: top;\n",
       "    }\n",
       "\n",
       "    .dataframe thead th {\n",
       "        text-align: right;\n",
       "    }\n",
       "</style>\n",
       "<table border=\"1\" class=\"dataframe\">\n",
       "  <thead>\n",
       "    <tr style=\"text-align: right;\">\n",
       "      <th></th>\n",
       "      <th>mvel1</th>\n",
       "      <th>bm</th>\n",
       "      <th>mom12m</th>\n",
       "      <th>RET</th>\n",
       "    </tr>\n",
       "    <tr>\n",
       "      <th>Date</th>\n",
       "      <th></th>\n",
       "      <th></th>\n",
       "      <th></th>\n",
       "      <th></th>\n",
       "    </tr>\n",
       "  </thead>\n",
       "  <tbody>\n",
       "    <tr>\n",
       "      <th>1957-01-01</th>\n",
       "      <td>1.220639e+07</td>\n",
       "      <td>0.000000</td>\n",
       "      <td>-0.016260</td>\n",
       "      <td>-0.082386</td>\n",
       "    </tr>\n",
       "    <tr>\n",
       "      <th>1957-01-01</th>\n",
       "      <td>1.153415e+07</td>\n",
       "      <td>0.000000</td>\n",
       "      <td>0.143456</td>\n",
       "      <td>-0.017021</td>\n",
       "    </tr>\n",
       "    <tr>\n",
       "      <th>1957-01-01</th>\n",
       "      <td>1.077829e+07</td>\n",
       "      <td>0.000000</td>\n",
       "      <td>0.012912</td>\n",
       "      <td>0.031364</td>\n",
       "    </tr>\n",
       "    <tr>\n",
       "      <th>1957-01-01</th>\n",
       "      <td>8.769161e+06</td>\n",
       "      <td>0.000000</td>\n",
       "      <td>-0.186409</td>\n",
       "      <td>-0.045396</td>\n",
       "    </tr>\n",
       "    <tr>\n",
       "      <th>1957-01-01</th>\n",
       "      <td>5.225362e+06</td>\n",
       "      <td>0.000000</td>\n",
       "      <td>0.051821</td>\n",
       "      <td>-0.107884</td>\n",
       "    </tr>\n",
       "    <tr>\n",
       "      <th>...</th>\n",
       "      <td>...</td>\n",
       "      <td>...</td>\n",
       "      <td>...</td>\n",
       "      <td>...</td>\n",
       "    </tr>\n",
       "    <tr>\n",
       "      <th>2016-12-01</th>\n",
       "      <td>1.022451e+07</td>\n",
       "      <td>-0.000213</td>\n",
       "      <td>0.152332</td>\n",
       "      <td>0.074279</td>\n",
       "    </tr>\n",
       "    <tr>\n",
       "      <th>2016-12-01</th>\n",
       "      <td>1.021339e+07</td>\n",
       "      <td>0.544931</td>\n",
       "      <td>0.039258</td>\n",
       "      <td>-0.034056</td>\n",
       "    </tr>\n",
       "    <tr>\n",
       "      <th>2016-12-01</th>\n",
       "      <td>1.020248e+07</td>\n",
       "      <td>0.280728</td>\n",
       "      <td>0.171187</td>\n",
       "      <td>-0.028373</td>\n",
       "    </tr>\n",
       "    <tr>\n",
       "      <th>2016-12-01</th>\n",
       "      <td>1.019650e+07</td>\n",
       "      <td>0.185368</td>\n",
       "      <td>0.099684</td>\n",
       "      <td>0.040418</td>\n",
       "    </tr>\n",
       "    <tr>\n",
       "      <th>2016-12-01</th>\n",
       "      <td>1.014925e+07</td>\n",
       "      <td>0.649443</td>\n",
       "      <td>0.075893</td>\n",
       "      <td>0.043158</td>\n",
       "    </tr>\n",
       "  </tbody>\n",
       "</table>\n",
       "<p>360000 rows × 4 columns</p>\n",
       "</div>"
      ],
      "text/plain": [
       "                   mvel1        bm    mom12m       RET\n",
       "Date                                                  \n",
       "1957-01-01  1.220639e+07  0.000000 -0.016260 -0.082386\n",
       "1957-01-01  1.153415e+07  0.000000  0.143456 -0.017021\n",
       "1957-01-01  1.077829e+07  0.000000  0.012912  0.031364\n",
       "1957-01-01  8.769161e+06  0.000000 -0.186409 -0.045396\n",
       "1957-01-01  5.225362e+06  0.000000  0.051821 -0.107884\n",
       "...                  ...       ...       ...       ...\n",
       "2016-12-01  1.022451e+07 -0.000213  0.152332  0.074279\n",
       "2016-12-01  1.021339e+07  0.544931  0.039258 -0.034056\n",
       "2016-12-01  1.020248e+07  0.280728  0.171187 -0.028373\n",
       "2016-12-01  1.019650e+07  0.185368  0.099684  0.040418\n",
       "2016-12-01  1.014925e+07  0.649443  0.075893  0.043158\n",
       "\n",
       "[360000 rows x 4 columns]"
      ]
     },
     "execution_count": 8,
     "metadata": {},
     "output_type": "execute_result"
    }
   ],
   "source": [
    "# Look at dataset with only 3 predictors\n",
    "data3"
   ]
  },
  {
   "cell_type": "code",
   "execution_count": 41,
   "metadata": {},
   "outputs": [],
   "source": [
    "# Function that runs OLS with an expending windows\n",
    "# Input: \n",
    "#   data: dataframe, \n",
    "#   y_variable: name of y variable\n",
    "#   X_variable: names of x variables\n",
    "# Output: list of mse_scores, (access by: expanding_regression_OLS()[0]), and list of r_squared_scores, (access by: expanding_regression_OLS()[1]) \n",
    "\n",
    "\n",
    "def expanding_regression_OLS(data, y_variable, x_variables):\n",
    "    \n",
    "    mse_scores = []\n",
    "    r_squared_scores = []\n",
    "    years = data.index.year.unique()\n",
    "\n",
    "    for i in range(len(years) - 18 - 12): # i is 0 to the last start_year which is the last year minus the start training years and validation years.\n",
    "        start_year = years[i]\n",
    "        end_train_year = start_year + 18  # 18 years of training and increasing with 1 year every iteration\n",
    "        end_validation_year = end_train_year + 12  # 12 years of validation\n",
    "        end_test_year = end_validation_year + 1  # 1 year of test\n",
    "\n",
    "        # Creating data frames for training, validation and testing.\n",
    "        train_data = data[(data.index.year < end_train_year)]\n",
    "        #val_data = data[(data.index.year >= end_train_year) & (data.index.year < end_validation_year)]\n",
    "        test_data = data[(data.index.year >= end_validation_year) & (data.index.year < end_test_year)]\n",
    "\n",
    "        X_train = train_data[x_variables]\n",
    "        X_test = test_data[x_variables]\n",
    "        y_train = train_data[y_variable]\n",
    "        y_test = test_data[y_variable]\n",
    "        \n",
    "        model = LinearRegression()\n",
    "        model.fit(X_train, y_train)\n",
    "\n",
    "        # Predict on test set\n",
    "        y_pred = model.predict(X_test)\n",
    "\n",
    "        # Calculate MSE\n",
    "        mse = np.mean((y_pred - y_test) ** 2)\n",
    "        mse_scores.append(mse)\n",
    "\n",
    "        # Calculate r_squared\n",
    "        r_squared = model.score(X_test, y_test) \n",
    "        r_squared_scores.append(r_squared)\n",
    "    return mse_scores, r_squared_scores"
   ]
  },
  {
   "cell_type": "code",
   "execution_count": 54,
   "metadata": {},
   "outputs": [
    {
     "name": "stdout",
     "output_type": "stream",
     "text": [
      "-0.027886363618365665\n"
     ]
    }
   ],
   "source": [
    "# Get mean r-squared for OLS-3\n",
    "r_squared_scores = expanding_regression_OLS(data3, y_variable, three_predictors)[1]\n",
    "print(np.mean(r_squared_scores)) # -0.027886"
   ]
  },
  {
   "cell_type": "code",
   "execution_count": 55,
   "metadata": {},
   "outputs": [
    {
     "data": {
      "image/png": "[encoded data removed]",
      "text/plain": [
       "<Figure size 640x480 with 1 Axes>"
      ]
     },
     "metadata": {},
     "output_type": "display_data"
    }
   ],
   "source": [
    "#Plot R-Squared\n",
    "# Plotting the values\n",
    "plt.plot(r_squared_scores)\n",
    "\n",
    "# Adding labels and title\n",
    "plt.xlabel('Iterations')\n",
    "plt.ylabel('R_Squared')\n",
    "plt.title('Plot of R-squared')\n",
    "\n",
    "# Display the plot\n",
    "plt.show()"
   ]
  },
  {
   "cell_type": "code",
   "execution_count": 56,
   "metadata": {},
   "outputs": [
    {
     "name": "stdout",
     "output_type": "stream",
     "text": [
      "The mean R-Squared for the full dataset is: -17245.35622453705\n"
     ]
    }
   ],
   "source": [
    "# Get mean r-squared for full OLS (10m runtime)\n",
    "# print(f\"The mean R-Squared for the full dataset is: {np.mean(expanding_regression_OLS(data, y_variable, all_predictors)[1])}\") #-1725.3562\n"
   ]
  }
 ],
 "metadata": {
  "kernelspec": {
   "display_name": "Python 3",
   "language": "python",
   "name": "python3"
  },
  "language_info": {
   "codemirror_mode": {
    "name": "ipython",
    "version": 3
   },
   "file_extension": ".py",
   "mimetype": "text/x-python",
   "name": "python",
   "nbconvert_exporter": "python",
   "pygments_lexer": "ipython3",
   "version": "3.12.1"
  }
 },
 "nbformat": 4,
 "nbformat_minor": 2
}
